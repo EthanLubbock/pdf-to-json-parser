{
 "cells": [
  {
   "cell_type": "markdown",
   "metadata": {},
   "source": [
    "# Drinks Menu Processing Notebook\n",
    "This notebook processes drinks menus from PDF files using the following steps:\n",
    "1. Extract text from the PDF files (`extract_text_hybrid`).\n",
    "2. Generate structured JSON data for each menu using an LLM API (`query_model_to_json`).\n",
    "3. Save the generated JSON outputs to a specified target directory.\n",
    "\n",
    "## Dependecies\n",
    "Please ensure you have done the following before proceeding\n",
    "- Install dependecies in `requirements.txt`.\n",
    "- Setup your own Gemini API key as an environment variable (named `GEMINI_API_KEY`) you can get setup with a free API key here (https://aistudio.google.com/apikey). \n",
    "- Follow installation instructions here (https://tesseract-ocr.github.io/tessdoc/Installation.html) to install tesseract OCR"
   ]
  },
  {
   "cell_type": "code",
   "execution_count": 4,
   "metadata": {},
   "outputs": [],
   "source": [
    "import os\n",
    "import json\n",
    "from pathlib import Path\n",
    "\n",
    "from pdf_to_text import extract_text_hybrid\n",
    "from query_llm import query_model_to_json\n",
    "\n",
    "# Directory paths\n",
    "pdf_directory = \"./example_pdfs\"  # Directory containing the input PDFs\n",
    "output_directory = \"./output_jsons\"  # Directory to save the JSON outputs\n",
    "\n",
    "# Ensure the output directory exists\n",
    "os.makedirs(output_directory, exist_ok=True)"
   ]
  },
  {
   "cell_type": "code",
   "execution_count": 5,
   "metadata": {},
   "outputs": [],
   "source": [
    "def process_pdf_to_json(pdf_path):\n",
    "    \"\"\"\n",
    "    Processes a single PDF file:\n",
    "    1. Extracts text using `extract_text_hybrid`.\n",
    "    2. Converts the text into structured JSON using `query_model_to_json`.\n",
    "\n",
    "    Args:\n",
    "        pdf_path (str): Path to the PDF file.\n",
    "\n",
    "    Returns:\n",
    "        dict: The structured JSON data for the menu.\n",
    "    \"\"\"\n",
    "    # Extract text from the PDF\n",
    "    print(f\"Extracting text from: {pdf_path}\")\n",
    "    extracted_text = extract_text_hybrid(pdf_path)\n",
    "\n",
    "    # Query the LLM to generate JSON\n",
    "    print(f\"Querying the LLM for JSON generation...\")\n",
    "    menu_json = query_model_to_json(extracted_text)\n",
    "    \n",
    "    return menu_json"
   ]
  },
  {
   "cell_type": "markdown",
   "metadata": {},
   "source": [
    "### Processing All PDFs\n",
    "This section processes all PDFs in the specified directory and saves their JSON outputs."
   ]
  },
  {
   "cell_type": "code",
   "execution_count": 6,
   "metadata": {},
   "outputs": [
    {
     "name": "stdout",
     "output_type": "stream",
     "text": [
      "Extracting text from: ./example_pdfs/beer_menu.pdf\n",
      "Querying the LLM for JSON generation...\n",
      "Processed and saved: ./output_jsons/beer_menu.json\n",
      "Extracting text from: ./example_pdfs/wine_list.pdf\n",
      "Querying the LLM for JSON generation...\n",
      "Processed and saved: ./output_jsons/wine_list.json\n",
      "Extracting text from: ./example_pdfs/bacardi_menu.pdf\n",
      "Querying the LLM for JSON generation...\n",
      "Processed and saved: ./output_jsons/bacardi_menu.json\n"
     ]
    }
   ],
   "source": [
    "pdf_files = [Path(p) for p in os.listdir(pdf_directory)]\n",
    "for pdf_file in pdf_files:\n",
    "    # set paths for loading and saving\n",
    "    pdf_path = os.path.join(pdf_directory, pdf_file)\n",
    "    json_path = os.path.join(output_directory, pdf_file.with_suffix(\".json\"))\n",
    "\n",
    "    try:\n",
    "        # Process pdf\n",
    "        menu_json = process_pdf_to_json(pdf_path)\n",
    "\n",
    "        # Save json\n",
    "        with open(json_path, \"w\") as outfile:\n",
    "            json.dump(menu_json, outfile, indent=2)\n",
    "            outfile.close()\n",
    "        \n",
    "        print(f\"Processed and saved: {json_path}\")\n",
    "\n",
    "    except Exception as e:\n",
    "        print(f\"Error processing {pdf_file}: {e}\")"
   ]
  },
  {
   "cell_type": "markdown",
   "metadata": {},
   "source": [
    "### Next Steps\n",
    "- Review the generated JSON files to ensure the output meets the requirements.\n",
    "- Test the notebook with additional PDFs to verify robustness."
   ]
  }
 ],
 "metadata": {
  "kernelspec": {
   "display_name": ".venv",
   "language": "python",
   "name": "python3"
  },
  "language_info": {
   "codemirror_mode": {
    "name": "ipython",
    "version": 3
   },
   "file_extension": ".py",
   "mimetype": "text/x-python",
   "name": "python",
   "nbconvert_exporter": "python",
   "pygments_lexer": "ipython3",
   "version": "3.10.12"
  }
 },
 "nbformat": 4,
 "nbformat_minor": 2
}
